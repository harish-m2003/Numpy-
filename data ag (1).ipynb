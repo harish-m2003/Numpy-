{
 "cells": [
  {
   "cell_type": "code",
   "execution_count": null,
   "id": "cea8cedf",
   "metadata": {},
   "outputs": [],
   "source": [
    "import pandas as pd\n",
    "import numpy a)s np\n",
    "df=pd DataFrame({'A'['sai','sude','wer','fgh','hykj','trtg'],'B'['one','two','three','one','two','three'],'c':np.randam.rand int('})"
   ]
  },
  {
   "cell_type": "code",
   "execution_count": 1,
   "id": "d4302d6f",
   "metadata": {},
   "outputs": [
    {
     "name": "stdout",
     "output_type": "stream",
     "text": [
      "     A      B  C  D  E\n",
      "0  aaa    one  2  2  2\n",
      "1  bbb    two  4  4  2\n",
      "2  ccc  three  2  0  3\n",
      "3  ddd    one  2  3  3\n",
      "4  eee    two  3  0  2\n",
      "5  fff  three  3  3  2\n"
     ]
    }
   ],
   "source": [
    "\n",
    "\n",
    "import pandas as pd\n",
    "import numpy as np\n",
    "df=pd.DataFrame({'A':['aaa','bbb','ccc','ddd','eee','fff'],'B':['one','two','three','one','two','three'],'C':np.random.randint(5,size=6),'D':np.random.randint(5,size=6),'E':np.random.randint(5,size=6)})\n",
    "print(df)"
   ]
  },
  {
   "cell_type": "code",
   "execution_count": 5,
   "id": "85835d97",
   "metadata": {},
   "outputs": [
    {
     "name": "stdout",
     "output_type": "stream",
     "text": [
      "     A  C\n",
      "0  aaa  0\n",
      "1  bbb  3\n",
      "2  ccc  1\n",
      "3  ddd  2\n",
      "4  eee  0\n",
      "5  fff  4\n"
     ]
    }
   ],
   "source": [
    "\n",
    "\n",
    "import pandas as pd\n",
    "import numpy as np\n",
    "df=pd.DataFrame({'A':['aaa','bbb','ccc','ddd','eee','fff'],'B':['one','two','three','one','two','three'],'C':np.random.randint(5,size=6),'D':np.random.randint(5,size=6),'E':np.random.randint(5,size=6)})\n",
    "df1= df.groupby('A',as_index=False)['C'].sum()\n",
    "print(df1)"
   ]
  },
  {
   "cell_type": "code",
   "execution_count": 6,
   "id": "b55b51a1",
   "metadata": {},
   "outputs": [
    {
     "name": "stdout",
     "output_type": "stream",
     "text": [
      "       B  C\n",
      "0    one  1\n",
      "1  three  0\n",
      "2    two  2\n"
     ]
    }
   ],
   "source": [
    "\n",
    "import pandas as pd\n",
    "import numpy as np\n",
    "df=pd.DataFrame({'A':['aaa','bbb','ccc','ddd','eee','fff'],'B':['one','two','three','one','two','three'],'C':np.random.randint(5,size=6),'D':np.random.randint(5,size=6),'E':np.random.randint(5,size=6)})\n",
    "df1= df.groupby('B',as_index=False)['C'].sum()\n",
    "print(df1)"
   ]
  },
  {
   "cell_type": "code",
   "execution_count": 9,
   "id": "f3384cec",
   "metadata": {},
   "outputs": [
    {
     "name": "stdout",
     "output_type": "stream",
     "text": [
      "     A      B  C  D\n",
      "0  aaa    one  2  3\n",
      "1  bbb    two  4  2\n",
      "2  ccc  three  3  0\n",
      "3  ddd    one  1  2\n",
      "4  eee    two  0  4\n",
      "5  fff  three  0  0\n"
     ]
    }
   ],
   "source": [
    "\n",
    "import pandas as pd\n",
    "import numpy as np\n",
    "df=pd.DataFrame({'A':['aaa','bbb','ccc','ddd','eee','fff'],'B':['one','two','three','one','two','three'],'C':np.random.randint(5,size=6),'D':np.random.randint(5,size=6),'E':np.random.randint(5,size=6)})\n",
    "df1= df.groupby(['A','B'],as_index=False)[['C','D']].sum()\n",
    "print(df1)"
   ]
  },
  {
   "cell_type": "code",
   "execution_count": 16,
   "id": "80474d16",
   "metadata": {},
   "outputs": [
    {
     "name": "stdout",
     "output_type": "stream",
     "text": [
      "pofital DataFrame:\n",
      "   catyary  sales  profit\n",
      "0       A    100      10\n",
      "1       B    200      13\n",
      "2       C    150      20\n",
      "3       A    150      25\n",
      "4       B    130      30\n",
      "5       C    200      15\n",
      "        sales        profit    \n",
      "          sum   mean    sum max\n",
      "catyary                        \n",
      "A         250  125.0     35  25\n",
      "B         330  165.0     43  30\n",
      "C         350  175.0     35  20\n"
     ]
    }
   ],
   "source": [
    "import pandas as pd\n",
    "df=pd.DataFrame({'catyary':['A','B','C','A','B','C'],'sales':[100,200,150,150,130,200],'profit':[10,13,20,25,30,15]})\n",
    "print(\"pofital DataFrame:\\n\",df)\n",
    "df_grouped=df.groupby('catyary').agg({'sales':['sum','mean'],'profit':['sum','max']})\n",
    "print(df_grouped)"
   ]
  }
 ],
 "metadata": {
  "kernelspec": {
   "display_name": "Python 3 (ipykernel)",
   "language": "python",
   "name": "python3"
  },
  "language_info": {
   "codemirror_mode": {
    "name": "ipython",
    "version": 3
   },
   "file_extension": ".py",
   "mimetype": "text/x-python",
   "name": "python",
   "nbconvert_exporter": "python",
   "pygments_lexer": "ipython3",
   "version": "3.11.5"
  }
 },
 "nbformat": 4,
 "nbformat_minor": 5
}
