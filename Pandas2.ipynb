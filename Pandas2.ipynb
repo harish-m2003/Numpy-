{
 "cells": [
  {
   "cell_type": "code",
   "execution_count": 37,
   "id": "f39fbf06",
   "metadata": {
    "scrolled": true
   },
   "outputs": [
    {
     "name": "stdout",
     "output_type": "stream",
     "text": [
      "DataFrame.apply Function:\n",
      "\n",
      "\n",
      "Orignal DataFrame:\n",
      "    S  R\n",
      "0  3  9\n",
      "1  3  9\n",
      "2  3  9\n",
      "3  3  9\n",
      "\n",
      "Squre root of DataFrame:\n",
      "           S    R\n",
      "0  1.732051  3.0\n",
      "1  1.732051  3.0\n",
      "2  1.732051  3.0\n",
      "3  1.732051  3.0\n",
      "\n",
      " sum of each Column:\n",
      " S    12\n",
      "R    36\n",
      "dtype: int64\n",
      "\n",
      " sum of each row:\n",
      " 0    12\n",
      "1    12\n",
      "2    12\n",
      "3    12\n",
      "dtype: int64\n"
     ]
    }
   ],
   "source": [
    "import pandas as pd\n",
    "import numpy as np\n",
    "print(\"DataFrame.apply Function:\\n\")\n",
    "info=pd.DataFrame([[3,9]]*4,columns=['S','R'])\n",
    "print(\"\\nOrignal DataFrame:\\n\",info)\n",
    "print(\"\\nSqure root of DataFrame:\\n\",info.apply(np.sqrt))\n",
    "print(\"\\n sum of each Column:\\n\",info.apply(np.sum,axis=0))\n",
    "print(\"\\n sum of each row:\\n\", info.apply(np.sum,axis=1))"
   ]
  },
  {
   "cell_type": "code",
   "execution_count": 32,
   "id": "418b9339",
   "metadata": {},
   "outputs": [
    {
     "name": "stdout",
     "output_type": "stream",
     "text": [
      "   X  Y  Z\n",
      "0  1  2  3\n",
      "1  4  5  6\n",
      "2  7  8  9\n",
      "     X  Y  Z\n",
      "min  1  2  3\n",
      "max  7  8  9\n",
      "  NAME  ID\n",
      "0  Sai  88\n",
      "1  Raj  70\n"
     ]
    }
   ],
   "source": [
    "import pandas as pd\n",
    "import numpy as np\n",
    "a=pd.DataFrame([[1,2,3],[4,5,6],[7,8,9]],columns=['X','Y','Z'])\n",
    "print(a)\n",
    "print(a.agg(['min','max']))\n",
    "a2=pd.DataFrame([['Sai',88],['Raj',70]],columns=['NAME','ID'])\n",
    "print(a2)"
   ]
  },
  {
   "cell_type": "code",
   "execution_count": 33,
   "id": "c2652e89",
   "metadata": {},
   "outputs": [
    {
     "name": "stdout",
     "output_type": "stream",
     "text": [
      "  NAME  ID  AGE\n",
      "0  Sai  88   20\n",
      "1  Raj  70   18\n",
      "  NAME  ID  AGE   Sex\n",
      "0  Sai  88   20  Male\n",
      "1  Raj  70   18  Male\n"
     ]
    }
   ],
   "source": [
    "a2['AGE']=[20,18]\n",
    "print(a2)\n",
    "d=a2.assign(Sex=['Male','Male'])\n",
    "print(d)"
   ]
  },
  {
   "cell_type": "code",
   "execution_count": 31,
   "id": "d1ab34d0",
   "metadata": {},
   "outputs": [
    {
     "name": "stdout",
     "output_type": "stream",
     "text": [
      "       Col3      Col4\n",
      "3 -0.949428  0.637012\n",
      "2 -2.541343  1.312622\n",
      "0  0.016376  0.741312\n",
      "4  1.475942 -1.157647\n",
      "1 -1.315140  0.340221\n"
     ]
    }
   ],
   "source": [
    "a=pd.DataFrame(np.random.randn(5,2),index=[3,2,0,4,1],columns=['Col3','Col4'])\n",
    "print(a)"
   ]
  },
  {
   "cell_type": "code",
   "execution_count": 40,
   "id": "3eb91625",
   "metadata": {},
   "outputs": [
    {
     "name": "stdout",
     "output_type": "stream",
     "text": [
      "   ID NAME_x Sub_x NAME_y Sub_y\n",
      "0   1    Sai  Sub1   Siva  Sub4\n",
      "1   2   Bala  Sub2    Ram  Sub5\n",
      "2   3    Raj  Sub3   Babu  Sub6\n"
     ]
    }
   ],
   "source": [
    "left=pd.DataFrame({'ID':[1,2,3],'NAME':['Sai','Bala','Raj'],'Sub':['Sub1','Sub2','Sub3']})\n",
    "right=pd.DataFrame({'ID':[1,2,3],'NAME':['Siva','Ram','Babu'],'Sub':['Sub4','Sub5','Sub6']})\n",
    "print(pd.merge(left,right,on='ID'))"
   ]
  }
 ],
 "metadata": {
  "kernelspec": {
   "display_name": "Python 3 (ipykernel)",
   "language": "python",
   "name": "python3"
  },
  "language_info": {
   "codemirror_mode": {
    "name": "ipython",
    "version": 3
   },
   "file_extension": ".py",
   "mimetype": "text/x-python",
   "name": "python",
   "nbconvert_exporter": "python",
   "pygments_lexer": "ipython3",
   "version": "3.11.4"
  }
 },
 "nbformat": 4,
 "nbformat_minor": 5
}
