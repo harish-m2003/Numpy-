{
  "nbformat": 4,
  "nbformat_minor": 0,
  "metadata": {
    "colab": {
      "provenance": []
    },
    "kernelspec": {
      "name": "python3",
      "display_name": "Python 3"
    },
    "language_info": {
      "name": "python"
    }
  },
  "cells": [
    {
      "cell_type": "code",
      "execution_count": 1,
      "metadata": {
        "colab": {
          "base_uri": "https://localhost:8080/"
        },
        "id": "-mhL3g1vUWZE",
        "outputId": "ec6f79df-c80a-457c-bcb4-3048b74cc554"
      },
      "outputs": [
        {
          "output_type": "stream",
          "name": "stdout",
          "text": [
            "Date Index \n",
            " 2011-01-02    0.599901\n",
            "2011-01-05   -0.680228\n",
            "2011-01-07    0.373799\n",
            "2011-01-08    0.524908\n",
            "2011-01-10    0.161003\n",
            "2011-01-12    0.196965\n",
            "dtype: float64\n"
          ]
        }
      ],
      "source": [
        "import pandas as pd\n",
        "import numpy as np\n",
        "from datetime import datetime\n",
        "#create a date variable that contains the dates\n",
        "dates = [datetime(2011, 1, 2),\n",
        " datetime(2011, 1, 5),\n",
        " datetime(2011, 1, 7),\n",
        " datetime(2011, 1, 8),\n",
        " datetime(2011, 1, 10),\n",
        " datetime(2011, 1, 12)]\n",
        "#with this date object, create a series\n",
        "ts = pd.Series(np.random.randn(6), index=dates)\n",
        "print(\"Date Index \\n\",ts)"
      ]
    },
    {
      "cell_type": "code",
      "source": [
        "print(\"\\nDate Index alone from the series: \\n\",ts.index)"
      ],
      "metadata": {
        "colab": {
          "base_uri": "https://localhost:8080/"
        },
        "id": "NWcnQY4OUkRz",
        "outputId": "2c238f8d-1e82-45f6-9fa5-f775f1f5f377"
      },
      "execution_count": 2,
      "outputs": [
        {
          "output_type": "stream",
          "name": "stdout",
          "text": [
            "\n",
            "Date Index alone from the series: \n",
            " DatetimeIndex(['2011-01-02', '2011-01-05', '2011-01-07', '2011-01-08',\n",
            "               '2011-01-10', '2011-01-12'],\n",
            "              dtype='datetime64[ns]', freq=None)\n"
          ]
        }
      ]
    },
    {
      "cell_type": "code",
      "source": [
        "stamp=ts.index[2]\n",
        "print(\"\\nSecond index:\\n\", stamp)"
      ],
      "metadata": {
        "colab": {
          "base_uri": "https://localhost:8080/"
        },
        "id": "mYv_gociUn28",
        "outputId": "b063500d-235c-48c9-be21-ae8754acac2c"
      },
      "execution_count": 3,
      "outputs": [
        {
          "output_type": "stream",
          "name": "stdout",
          "text": [
            "\n",
            "Second index:\n",
            " 2011-01-07 00:00:00\n"
          ]
        }
      ]
    },
    {
      "cell_type": "code",
      "source": [
        "longer_ts=pd.Series(np.random.randn(1000),\n",
        " index=pd.date_range(\"2000-01-01\",periods=1000))\n",
        "print(\"\\nDaterange up to 1000 days:\\n\",longer_ts)"
      ],
      "metadata": {
        "colab": {
          "base_uri": "https://localhost:8080/"
        },
        "id": "gZ32DFhvUqwo",
        "outputId": "1eeca17a-e68f-4b62-acd6-4fcf7e787b27"
      },
      "execution_count": 4,
      "outputs": [
        {
          "output_type": "stream",
          "name": "stdout",
          "text": [
            "\n",
            "Daterange up to 1000 days:\n",
            " 2000-01-01    1.455701\n",
            "2000-01-02    0.325533\n",
            "2000-01-03    2.435506\n",
            "2000-01-04   -0.562811\n",
            "2000-01-05   -1.659491\n",
            "                ...   \n",
            "2002-09-22    2.472532\n",
            "2002-09-23   -2.685944\n",
            "2002-09-24   -0.715297\n",
            "2002-09-25   -1.394158\n",
            "2002-09-26   -0.748235\n",
            "Freq: D, Length: 1000, dtype: float64\n"
          ]
        }
      ]
    },
    {
      "cell_type": "code",
      "source": [
        "print(\"\\nDate range-2001 year:\\n\", longer_ts[\"2001\"])"
      ],
      "metadata": {
        "colab": {
          "base_uri": "https://localhost:8080/"
        },
        "id": "LPgiP1KQUtXS",
        "outputId": "fde8322d-8fcc-481f-c69c-f7c91a6c5977"
      },
      "execution_count": 5,
      "outputs": [
        {
          "output_type": "stream",
          "name": "stdout",
          "text": [
            "\n",
            "Date range-2001 year:\n",
            " 2001-01-01   -0.614711\n",
            "2001-01-02   -1.979172\n",
            "2001-01-03   -0.295129\n",
            "2001-01-04    0.160836\n",
            "2001-01-05   -0.308938\n",
            "                ...   \n",
            "2001-12-27   -0.501371\n",
            "2001-12-28    0.276888\n",
            "2001-12-29   -0.062772\n",
            "2001-12-30    1.308424\n",
            "2001-12-31    0.044350\n",
            "Freq: D, Length: 365, dtype: float64\n"
          ]
        }
      ]
    },
    {
      "cell_type": "code",
      "source": [
        "print(\"\\nDate range-05 month 2001 year:\\n\", longer_ts[\"2001-05\"])"
      ],
      "metadata": {
        "colab": {
          "base_uri": "https://localhost:8080/"
        },
        "id": "iza2HTrwUyvS",
        "outputId": "a5b9a2a3-d3b4-4770-be48-f21702cbe756"
      },
      "execution_count": 6,
      "outputs": [
        {
          "output_type": "stream",
          "name": "stdout",
          "text": [
            "\n",
            "Date range-05 month 2001 year:\n",
            " 2001-05-01    0.737035\n",
            "2001-05-02   -0.097238\n",
            "2001-05-03    0.624342\n",
            "2001-05-04    0.424206\n",
            "2001-05-05   -2.044784\n",
            "2001-05-06    1.621558\n",
            "2001-05-07    0.157042\n",
            "2001-05-08   -0.800979\n",
            "2001-05-09   -0.178470\n",
            "2001-05-10   -0.334574\n",
            "2001-05-11   -0.254426\n",
            "2001-05-12    0.389270\n",
            "2001-05-13    1.097281\n",
            "2001-05-14    0.774695\n",
            "2001-05-15    0.887109\n",
            "2001-05-16    0.055518\n",
            "2001-05-17    0.302259\n",
            "2001-05-18    1.299976\n",
            "2001-05-19   -1.009291\n",
            "2001-05-20   -0.690365\n",
            "2001-05-21    0.926861\n",
            "2001-05-22    0.446635\n",
            "2001-05-23   -0.138202\n",
            "2001-05-24    0.644509\n",
            "2001-05-25    1.143121\n",
            "2001-05-26    0.340465\n",
            "2001-05-27    0.888805\n",
            "2001-05-28    0.476104\n",
            "2001-05-29    0.628547\n",
            "2001-05-30    0.273275\n",
            "2001-05-31    1.194651\n",
            "Freq: D, dtype: float64\n"
          ]
        }
      ]
    },
    {
      "cell_type": "code",
      "source": [
        "print(\"\\nDate range-first few dates in 2000 year:\\n\",longer_ts[\"2000\"].head())"
      ],
      "metadata": {
        "colab": {
          "base_uri": "https://localhost:8080/"
        },
        "id": "XT2BCtO8U4C2",
        "outputId": "0a47d177-bf0f-488b-c9f4-b1a86a6e7b00"
      },
      "execution_count": 7,
      "outputs": [
        {
          "output_type": "stream",
          "name": "stdout",
          "text": [
            "\n",
            "Date range-first few dates in 2000 year:\n",
            " 2000-01-01    1.455701\n",
            "2000-01-02    0.325533\n",
            "2000-01-03    2.435506\n",
            "2000-01-04   -0.562811\n",
            "2000-01-05   -1.659491\n",
            "Freq: D, dtype: float64\n"
          ]
        }
      ]
    },
    {
      "cell_type": "code",
      "source": [
        "print(\"\\nDate range-first 15 dates in 02 month 2001 year:\\n\",longer_ts[\"2000-02\"].head(15))"
      ],
      "metadata": {
        "colab": {
          "base_uri": "https://localhost:8080/"
        },
        "id": "JFB4zY0bVBOX",
        "outputId": "b7de0df6-ad1f-483c-a077-a13971c6682f"
      },
      "execution_count": 8,
      "outputs": [
        {
          "output_type": "stream",
          "name": "stdout",
          "text": [
            "\n",
            "Date range-first 15 dates in 02 month 2001 year:\n",
            " 2000-02-01   -0.754787\n",
            "2000-02-02   -0.717445\n",
            "2000-02-03   -0.588694\n",
            "2000-02-04    1.913419\n",
            "2000-02-05    0.126566\n",
            "2000-02-06    1.873454\n",
            "2000-02-07    1.460802\n",
            "2000-02-08    1.285994\n",
            "2000-02-09    0.427253\n",
            "2000-02-10   -0.314111\n",
            "2000-02-11    0.034536\n",
            "2000-02-12   -0.691791\n",
            "2000-02-13    1.429427\n",
            "2000-02-14   -0.031147\n",
            "2000-02-15    0.726318\n",
            "Freq: D, dtype: float64\n"
          ]
        }
      ]
    },
    {
      "cell_type": "code",
      "source": [
        "print(\"\\nDate range-rom 26-9-2001:\\n\",longer_ts[datetime(2000,9,26):])"
      ],
      "metadata": {
        "colab": {
          "base_uri": "https://localhost:8080/"
        },
        "id": "NMZfBMY9VEse",
        "outputId": "1e765842-04fa-4933-8972-fc91b73cf2dd"
      },
      "execution_count": 9,
      "outputs": [
        {
          "output_type": "stream",
          "name": "stdout",
          "text": [
            "\n",
            "Date range-rom 26-9-2001:\n",
            " 2000-09-26   -0.174967\n",
            "2000-09-27   -0.101530\n",
            "2000-09-28    1.215208\n",
            "2000-09-29    0.194355\n",
            "2000-09-30   -0.355042\n",
            "                ...   \n",
            "2002-09-22    2.472532\n",
            "2002-09-23   -2.685944\n",
            "2002-09-24   -0.715297\n",
            "2002-09-25   -1.394158\n",
            "2002-09-26   -0.748235\n",
            "Freq: D, Length: 731, dtype: float64\n"
          ]
        }
      ]
    },
    {
      "cell_type": "code",
      "source": [
        "print(\"\\nDate range from 26-9-2001 to 25-9- 2002:\\n\",longer_ts[datetime(2001,9,26):datetime(2002,9,25)])"
      ],
      "metadata": {
        "id": "Mbh3D0q_VHce",
        "outputId": "143f62fe-9ea7-4ea2-8aa7-b0df6b03a0e0",
        "colab": {
          "base_uri": "https://localhost:8080/"
        }
      },
      "execution_count": 10,
      "outputs": [
        {
          "output_type": "stream",
          "name": "stdout",
          "text": [
            "\n",
            "Date range from 26-9-2001 to 25-9- 2002:\n",
            " 2001-09-26    0.906758\n",
            "2001-09-27   -0.194329\n",
            "2001-09-28   -0.335714\n",
            "2001-09-29    0.364553\n",
            "2001-09-30   -0.194081\n",
            "                ...   \n",
            "2002-09-21    0.573236\n",
            "2002-09-22    2.472532\n",
            "2002-09-23   -2.685944\n",
            "2002-09-24   -0.715297\n",
            "2002-09-25   -1.394158\n",
            "Freq: D, Length: 365, dtype: float64\n"
          ]
        }
      ]
    }
  ]
}