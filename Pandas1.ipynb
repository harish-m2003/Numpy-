{
 "cells": [
  {
   "cell_type": "code",
   "execution_count": 6,
   "id": "9d01d762",
   "metadata": {},
   "outputs": [],
   "source": [
    "import pandas as pd"
   ]
  },
  {
   "cell_type": "code",
   "execution_count": 25,
   "id": "808e0350",
   "metadata": {},
   "outputs": [
    {
     "name": "stdout",
     "output_type": "stream",
     "text": [
      "       Emp  Id\n",
      "0   Barath  12\n",
      "1   Balaji  11\n",
      "2   Bhavan  14\n",
      "3  Chandra  16\n",
      "4    Geeth  26\n"
     ]
    }
   ],
   "source": [
    "emp=pd.Series(['Barath','Balaji','Bhavan','Chandra','Geeth'])\n",
    "id1=pd.Series([12,11,14,16,26])\n",
    "frame={'Emp':emp,'Id':id1}\n",
    "result=pd.DataFrame(frame)\n",
    "print(result)"
   ]
  },
  {
   "cell_type": "code",
   "execution_count": 26,
   "id": "f4d984c0",
   "metadata": {},
   "outputs": [
    {
     "name": "stdout",
     "output_type": "stream",
     "text": [
      "Extracting one column:\n",
      "\n",
      "0     Barath\n",
      "1     Balaji\n",
      "2     Bhavan\n",
      "3    Chandra\n",
      "4      Geeth\n",
      "Name: Emp, dtype: object\n"
     ]
    }
   ],
   "source": [
    "print(\"Extracting one column:\\n\")\n",
    "print(result['Emp'])"
   ]
  },
  {
   "cell_type": "code",
   "execution_count": 27,
   "id": "1f2063bc",
   "metadata": {},
   "outputs": [
    {
     "name": "stdout",
     "output_type": "stream",
     "text": [
      "Adding new columns :\n",
      "\n",
      "       Emp  Id  age\n",
      "0   Barath  12   19\n",
      "1   Balaji  11   20\n",
      "2   Bhavan  14   15\n",
      "3  Chandra  16   18\n",
      "4    Geeth  26   24\n"
     ]
    }
   ],
   "source": [
    "print(\"Adding new columns :\\n\")\n",
    "result['age']=pd.Series([19,20,15,18,24])\n",
    "print(result)"
   ]
  },
  {
   "cell_type": "code",
   "execution_count": 28,
   "id": "44469f18",
   "metadata": {},
   "outputs": [
    {
     "name": "stdout",
     "output_type": "stream",
     "text": [
      "Deleting new column:\n",
      "\n",
      "       Emp  Id\n",
      "0   Barath  12\n",
      "1   Balaji  11\n",
      "2   Bhavan  14\n",
      "3  Chandra  16\n",
      "4    Geeth  26\n"
     ]
    }
   ],
   "source": [
    "print(\"Deleting new column:\\n\")\n",
    "del result['age']\n",
    "print(result)"
   ]
  },
  {
   "cell_type": "code",
   "execution_count": 29,
   "id": "6ffe65d4",
   "metadata": {},
   "outputs": [
    {
     "name": "stdout",
     "output_type": "stream",
     "text": [
      "Extraction of the second row:\n",
      "\n",
      "Emp    Balaji\n",
      "Id         11\n",
      "Name: 1, dtype: object\n"
     ]
    }
   ],
   "source": [
    "print(\"Extraction of the second row:\\n\")\n",
    "print(result.loc[1])"
   ]
  },
  {
   "cell_type": "code",
   "execution_count": 30,
   "id": "637be227",
   "metadata": {},
   "outputs": [
    {
     "name": "stdout",
     "output_type": "stream",
     "text": [
      "Slice rows :\n",
      "        Emp  Id\n",
      "1   Balaji  11\n",
      "2   Bhavan  14\n",
      "3  Chandra  16\n"
     ]
    }
   ],
   "source": [
    "print(\"Slice rows :\\n\",result[1:4])"
   ]
  },
  {
   "cell_type": "code",
   "execution_count": 32,
   "id": "4354e4c0",
   "metadata": {},
   "outputs": [
    {
     "name": "stdout",
     "output_type": "stream",
     "text": [
      "Adding new row values:\n",
      "         Emp  Id\n",
      "0    Barath  12\n",
      "1    Balaji  11\n",
      "2    Bhavan  14\n",
      "3   Chandra  16\n",
      "4     Geeth  26\n",
      "0  Chelliah  17\n",
      "1   Bhaavya  15\n"
     ]
    }
   ],
   "source": [
    "d2=pd.DataFrame([['Chelliah',17],['Bhaavya',15]],columns=['Emp','Id'])\n",
    "print(\"Adding new row values:\\n\",pd.concat([result,d2]))"
   ]
  },
  {
   "cell_type": "code",
   "execution_count": 37,
   "id": "d0f11cb7",
   "metadata": {},
   "outputs": [
    {
     "name": "stdout",
     "output_type": "stream",
     "text": [
      "Deleting particular row:\n",
      "        Emp  Id\n",
      "0   Barath  12\n",
      "1   Balaji  11\n",
      "2   Bhavan  14\n",
      "3  Chandra  16\n"
     ]
    }
   ],
   "source": [
    "print(\"Deleting particular row:\\n\",result.drop(4))"
   ]
  },
  {
   "cell_type": "code",
   "execution_count": null,
   "id": "80e1d8a5",
   "metadata": {},
   "outputs": [],
   "source": []
  }
 ],
 "metadata": {
  "kernelspec": {
   "display_name": "Python 3 (ipykernel)",
   "language": "python",
   "name": "python3"
  },
  "language_info": {
   "codemirror_mode": {
    "name": "ipython",
    "version": 3
   },
   "file_extension": ".py",
   "mimetype": "text/x-python",
   "name": "python",
   "nbconvert_exporter": "python",
   "pygments_lexer": "ipython3",
   "version": "3.11.5"
  }
 },
 "nbformat": 4,
 "nbformat_minor": 5
}
