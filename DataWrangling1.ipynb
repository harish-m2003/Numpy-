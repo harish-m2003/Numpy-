{
 "cells": [
  {
   "cell_type": "code",
   "execution_count": 4,
   "id": "a2c6e6a2",
   "metadata": {},
   "outputs": [
    {
     "name": "stdout",
     "output_type": "stream",
     "text": [
      "  name  age\n",
      "0  sai   20\n",
      "1  sub   21\n",
      "2  POD   22\n"
     ]
    }
   ],
   "source": [
    "import pandas  as pd\n",
    "d1={\"name\":[\"sai\",\"sub\",\"POD\"],\"age\":[20,21,22]}\n",
    "d2={\"qualified\":[True,True,False]}\n",
    "df1=pd.DataFrame(d1)\n",
    "print(df1)"
   ]
  },
  {
   "cell_type": "code",
   "execution_count": 5,
   "id": "db5a156b",
   "metadata": {},
   "outputs": [
    {
     "name": "stdout",
     "output_type": "stream",
     "text": [
      "   qualified\n",
      "0       True\n",
      "1       True\n",
      "2      False\n",
      "  name  age  qualified\n",
      "0  sai   20       True\n",
      "1  sub   21       True\n",
      "2  POD   22      False\n"
     ]
    }
   ],
   "source": [
    "df2=pd.DataFrame(d2)\n",
    "print(df2)\n",
    "newdf=df1.join(df2)\n",
    "print(newdf)"
   ]
  },
  {
   "cell_type": "code",
   "execution_count": 9,
   "id": "2d77831f",
   "metadata": {},
   "outputs": [
    {
     "name": "stdout",
     "output_type": "stream",
     "text": [
      "   name  age\n",
      "0   sai   20\n",
      "1   sri   21\n",
      "2  pavi   22\n",
      "      name  age\n",
      "0     yuvi   20\n",
      "1  rithika   21\n",
      "2   sanjay   22\n",
      "    name_x  age name_y\n",
      "0     yuvi   20    sai\n",
      "1  rithika   21    sri\n",
      "2   sanjay   22   pavi\n"
     ]
    }
   ],
   "source": [
    "d1={\"name\":[\"sai\",\"sri\",\"pavi\"],\"age\":[20,21,22]}\n",
    "d2={\"name\":[\"yuvi\",\"rithika\",\"sanjay\"],\"age\":[20,21,22]}\n",
    "df1=pd.DataFrame(d1)\n",
    "print(df1)\n",
    "df2=pd.DataFrame(d2)\n",
    "print(df2)\n",
    "newdf1=df2.merge(df1,on='age')\n",
    "print(newdf1)"
   ]
  },
  {
   "cell_type": "code",
   "execution_count": 14,
   "id": "bf7bc039",
   "metadata": {},
   "outputs": [
    {
     "name": "stdout",
     "output_type": "stream",
     "text": [
      "   team  variable  value\n",
      "0     A    points     90\n",
      "1     B    points     56\n",
      "2     C    points     78\n",
      "3     D    points     88\n",
      "4     A    assits     12\n",
      "5     B    assits     34\n",
      "6     C    assits     23\n",
      "7     D    assits     44\n",
      "8     A  rebounds     56\n",
      "9     B  rebounds     43\n",
      "10    C  rebounds     55\n",
      "11    D  rebounds     12\n"
     ]
    }
   ],
   "source": [
    "df=pd.DataFrame({\"team\":['A','B','C','D'],'points':[90,56,78,88],'assits':[12,34,23,44],'rebounds':[56,43,55,12]})\n",
    "x=pd.melt(df,id_vars='team',value_vars=['points','assits','rebounds'])\n",
    "print(x)\n"
   ]
  },
  {
   "cell_type": "code",
   "execution_count": null,
   "id": "b7fad770",
   "metadata": {},
   "outputs": [],
   "source": []
  },
  {
   "cell_type": "code",
   "execution_count": null,
   "id": "db2eeefd",
   "metadata": {},
   "outputs": [],
   "source": []
  }
 ],
 "metadata": {
  "kernelspec": {
   "display_name": "Python 3 (ipykernel)",
   "language": "python",
   "name": "python3"
  },
  "language_info": {
   "codemirror_mode": {
    "name": "ipython",
    "version": 3
   },
   "file_extension": ".py",
   "mimetype": "text/x-python",
   "name": "python",
   "nbconvert_exporter": "python",
   "pygments_lexer": "ipython3",
   "version": "3.11.3"
  }
 },
 "nbformat": 4,
 "nbformat_minor": 5
}
