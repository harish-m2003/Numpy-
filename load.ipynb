{
 "cells": [
  {
   "cell_type": "code",
   "execution_count": 2,
   "id": "f67e0e9f",
   "metadata": {},
   "outputs": [
    {
     "name": "stdout",
     "output_type": "stream",
     "text": [
      "    Unnamed: 0      NAME  GENDER        DOJ   SALARY LAST LOGIN TIME  BONUS  \\\n",
      "0            1     ADHIL    MALE 2024-03-02    30000        14:00:00    5.0   \n",
      "1            2     VARUN    MALE 2022-03-01    35000          2:30PM   10.0   \n",
      "2            3     ADHIL    MALE 1990-08-31    90000         10:00PM    3.0   \n",
      "3            4   YUVARAJ    MALE 2006-08-04    80000         10:30PM    4.0   \n",
      "4            5    PUGAZH    MALE 1982-03-31   100000         10:00AM    6.0   \n",
      "5            6     YADHU    MALE 2008-01-20   150000         10:10PM    2.0   \n",
      "6            7      RAVI    MALE 2006-03-07   200000         10:30PM    1.5   \n",
      "7            8       RAM    MALE 1972-11-17   300000          8:01PM    6.8   \n",
      "8            9     RAHUL    MALE 2009-06-06    20000          5:00PM    9.5   \n",
      "9           10  NARENDAR    MALE 2004-04-01    10000          1:30PM    7.0   \n",
      "10          11  ANANDHAN    MALE 2020-08-06    25000          8:30PM    9.0   \n",
      "11          12  KEERTHNA  FEMALE 2006-09-05    45000          5:00AM    3.5   \n",
      "12          13   DEEPIKA  FEMALE 2006-01-24    45000          4:30PM    6.7   \n",
      "13          14       ABI    MALE 2008-06-15    50000          5:40PM    2.3   \n",
      "14          15   ABHISEK    MALE 1990-08-31    70000          6:00PM    5.8   \n",
      "15          16    DANIEL    MALE 1976-05-12    22000          6:15PM    2.9   \n",
      "16          17    DHARUN    MALE 2009-06-06    11000          7:40PM    3.0   \n",
      "17          18    ELANGO    MALE 1982-03-31    69000          8:01PM    5.0   \n",
      "18          19   DARSHAN    MALE 1976-05-12    46000          1:30PM    8.0   \n",
      "19          20      BABU    MALE 2006-07-05    70000          5:40PM    2.0   \n",
      "20          21     BAVAN    MALE 2025-01-20    37000         10:10PM    4.0   \n",
      "21          22   CHANDRA    MALE 2025-01-05    78000          5:30AM    6.0   \n",
      "22          23      REVI    MALE 1990-08-05    20000          7:30AM    9.0   \n",
      "23          24      BALA    MALE 1976-08-23    10000          6:15AM    3.0   \n",
      "24          25    BHAVYA  FEMALE 1976-05-12  1200000          5:00PM    8.0   \n",
      "\n",
      "   SENIOR MANAGER TEAM  \n",
      "0             YES    A  \n",
      "1              NO    B  \n",
      "2             YES    A  \n",
      "3              NO    A  \n",
      "4              NO    A  \n",
      "5             YES    A  \n",
      "6              NO    B  \n",
      "7              NO    A  \n",
      "8              NO    B  \n",
      "9              NO    B  \n",
      "10            YES    B  \n",
      "11             NO    B  \n",
      "12             NO    A  \n",
      "13            YES    A  \n",
      "14             NO    B  \n",
      "15             NO    A  \n",
      "16             NO    B  \n",
      "17            YES    B  \n",
      "18             NO    A  \n",
      "19            YES    B  \n",
      "20             NO    A  \n",
      "21             NO    B  \n",
      "22            YES    B  \n",
      "23             NO    B  \n",
      "24            YES    B  \n"
     ]
    }
   ],
   "source": [
    "import pandas as pd\n",
    "d=pd.read_excel(\"/Users/student/Downloads/17.xlsx\")\n",
    "print(d)"
   ]
  },
  {
   "cell_type": "code",
   "execution_count": 6,
   "id": "71e65c6c",
   "metadata": {},
   "outputs": [
    {
     "name": "stdout",
     "output_type": "stream",
     "text": [
      "columns: Index(['Unnamed: 0', 'NAME', 'GENDER', 'DOJ', 'SALARY', 'LAST LOGIN TIME',\n",
      "       'BONUS', 'SENIOR MANAGER', 'TEAM'],\n",
      "      dtype='object')\n"
     ]
    }
   ],
   "source": [
    "df=pd.DataFrame(d)\n",
    "print(\"columns:\",df.columns)\n"
   ]
  },
  {
   "cell_type": "code",
   "execution_count": 7,
   "id": "5c28b406",
   "metadata": {},
   "outputs": [
    {
     "name": "stdout",
     "output_type": "stream",
     "text": [
      "(25, 9)\n"
     ]
    }
   ],
   "source": [
    "df=pd.DataFrame(d)\n",
    "print(df.shape)"
   ]
  },
  {
   "cell_type": "code",
   "execution_count": 8,
   "id": "cafe5e75",
   "metadata": {},
   "outputs": [
    {
     "name": "stdout",
     "output_type": "stream",
     "text": [
      "NAME 0        ADHIL\n",
      "1        VARUN\n",
      "2        ADHIL\n",
      "3      YUVARAJ\n",
      "4       PUGAZH\n",
      "5        YADHU\n",
      "6         RAVI\n",
      "7          RAM\n",
      "8        RAHUL\n",
      "9     NARENDAR\n",
      "10    ANANDHAN\n",
      "11    KEERTHNA\n",
      "12     DEEPIKA\n",
      "13         ABI\n",
      "14     ABHISEK\n",
      "15      DANIEL\n",
      "16      DHARUN\n",
      "17      ELANGO\n",
      "18     DARSHAN\n",
      "19        BABU\n",
      "20       BAVAN\n",
      "21     CHANDRA\n",
      "22        REVI\n",
      "23        BALA\n",
      "24      BHAVYA\n",
      "Name: NAME, dtype: object\n"
     ]
    }
   ],
   "source": [
    "print(\"NAME\",df['NAME'])"
   ]
  },
  {
   "cell_type": "code",
   "execution_count": 9,
   "id": "2c87f3d1",
   "metadata": {},
   "outputs": [
    {
     "name": "stdout",
     "output_type": "stream",
     "text": [
      "TEAM: 0     A\n",
      "1     B\n",
      "2     A\n",
      "3     A\n",
      "4     A\n",
      "5     A\n",
      "6     B\n",
      "7     A\n",
      "8     B\n",
      "9     B\n",
      "10    B\n",
      "11    B\n",
      "12    A\n",
      "13    A\n",
      "14    B\n",
      "15    A\n",
      "16    B\n",
      "17    B\n",
      "18    A\n",
      "19    B\n",
      "20    A\n",
      "21    B\n",
      "22    B\n",
      "23    B\n",
      "24    B\n",
      "Name: TEAM, dtype: object\n"
     ]
    }
   ],
   "source": [
    "print(\"TEAM:\",df['TEAM'])"
   ]
  },
  {
   "cell_type": "code",
   "execution_count": 10,
   "id": "c4ee94a4",
   "metadata": {},
   "outputs": [
    {
     "name": "stdout",
     "output_type": "stream",
     "text": [
      "   Unnamed: 0     NAME GENDER        DOJ  SALARY LAST LOGIN TIME  BONUS  \\\n",
      "0           1    ADHIL   MALE 2024-03-02   30000        14:00:00    5.0   \n",
      "1           2    VARUN   MALE 2022-03-01   35000          2:30PM   10.0   \n",
      "2           3    ADHIL   MALE 1990-08-31   90000         10:00PM    3.0   \n",
      "3           4  YUVARAJ   MALE 2006-08-04   80000         10:30PM    4.0   \n",
      "4           5   PUGAZH   MALE 1982-03-31  100000         10:00AM    6.0   \n",
      "5           6    YADHU   MALE 2008-01-20  150000         10:10PM    2.0   \n",
      "6           7     RAVI   MALE 2006-03-07  200000         10:30PM    1.5   \n",
      "\n",
      "  SENIOR MANAGER TEAM  \n",
      "0            YES    A  \n",
      "1             NO    B  \n",
      "2            YES    A  \n",
      "3             NO    A  \n",
      "4             NO    A  \n",
      "5            YES    A  \n",
      "6             NO    B  \n"
     ]
    }
   ],
   "source": [
    "print(df[0:7])"
   ]
  },
  {
   "cell_type": "code",
   "execution_count": 12,
   "id": "7bf2848d",
   "metadata": {},
   "outputs": [
    {
     "name": "stdout",
     "output_type": "stream",
     "text": [
      "Particular person details: Unnamed: 0                           8\n",
      "NAME                               RAM\n",
      "GENDER                            MALE\n",
      "DOJ                1972-11-17 00:00:00\n",
      "SALARY                          300000\n",
      "LAST LOGIN TIME                 8:01PM\n",
      "BONUS                              6.8\n",
      "SENIOR MANAGER                      NO\n",
      "TEAM                                 A\n",
      "Name: 7, dtype: object\n"
     ]
    }
   ],
   "source": [
    "print(\"Particular person details:\",df.loc[7])"
   ]
  },
  {
   "cell_type": "code",
   "execution_count": 18,
   "id": "b02a1f38",
   "metadata": {},
   "outputs": [
    {
     "name": "stdout",
     "output_type": "stream",
     "text": [
      "0     False\n",
      "1     False\n",
      "2     False\n",
      "3     False\n",
      "4     False\n",
      "5     False\n",
      "6     False\n",
      "7     False\n",
      "8     False\n",
      "9     False\n",
      "10    False\n",
      "11    False\n",
      "12    False\n",
      "13    False\n",
      "14    False\n",
      "15    False\n",
      "16    False\n",
      "17    False\n",
      "18    False\n",
      "19    False\n",
      "20    False\n",
      "21    False\n",
      "22    False\n",
      "23    False\n",
      "24    False\n",
      "Name: SALARY, dtype: bool\n"
     ]
    }
   ],
   "source": [
    "print(d['SALARY']==14500)"
   ]
  },
  {
   "cell_type": "code",
   "execution_count": 19,
   "id": "734921a2",
   "metadata": {},
   "outputs": [
    {
     "name": "stdout",
     "output_type": "stream",
     "text": [
      "0      1304.347826\n",
      "1      1521.739130\n",
      "2      3913.043478\n",
      "3      3478.260870\n",
      "4      4347.826087\n",
      "5      6521.739130\n",
      "6      8695.652174\n",
      "7     13043.478261\n",
      "8       869.565217\n",
      "9       434.782609\n",
      "10     1086.956522\n",
      "11     1956.521739\n",
      "12     1956.521739\n",
      "13     2173.913043\n",
      "14     3043.478261\n",
      "15      956.521739\n",
      "16      478.260870\n",
      "17     3000.000000\n",
      "18     2000.000000\n",
      "19     3043.478261\n",
      "20     1608.695652\n",
      "21     3391.304348\n",
      "22      869.565217\n",
      "23      434.782609\n",
      "24    52173.913043\n",
      "Name: SALARY, dtype: float64\n"
     ]
    }
   ],
   "source": [
    "print(d['SALARY']/23)"
   ]
  }
 ],
 "metadata": {
  "kernelspec": {
   "display_name": "Python 3 (ipykernel)",
   "language": "python",
   "name": "python3"
  },
  "language_info": {
   "codemirror_mode": {
    "name": "ipython",
    "version": 3
   },
   "file_extension": ".py",
   "mimetype": "text/x-python",
   "name": "python",
   "nbconvert_exporter": "python",
   "pygments_lexer": "ipython3",
   "version": "3.11.4"
  }
 },
 "nbformat": 4,
 "nbformat_minor": 5
}
