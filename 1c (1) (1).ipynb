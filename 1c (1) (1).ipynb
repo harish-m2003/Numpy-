{
 "cells": [
  {
   "cell_type": "code",
   "execution_count": 2,
   "id": "895c5809",
   "metadata": {},
   "outputs": [
    {
     "name": "stdout",
     "output_type": "stream",
     "text": [
      "one dimensionanl array : [1 2 3 4]\n"
     ]
    }
   ],
   "source": [
    "import numpy as np\n",
    "a= np.array ([1,2,3,4])\n",
    "print (\"one dimensionanl array :\",a)\n"
   ]
  },
  {
   "cell_type": "code",
   "execution_count": 3,
   "id": "69028501",
   "metadata": {},
   "outputs": [
    {
     "name": "stdout",
     "output_type": "stream",
     "text": [
      "two dimensionanl array: [[1 2 3 4]\n",
      " [5 6 8 9]]\n"
     ]
    }
   ],
   "source": [
    "import numpy as np\n",
    "b= np.array([[1,2,3,4],[5,6,8,9]])\n",
    "print (\"two dimensionanl array:\",b)\n"
   ]
  },
  {
   "cell_type": "code",
   "execution_count": 8,
   "id": "5b194875",
   "metadata": {},
   "outputs": [
    {
     "name": "stdout",
     "output_type": "stream",
     "text": [
      "\n",
      " arry with all zeros:\n",
      " [[0. 0. 0. 0. 0.]\n",
      " [0. 0. 0. 0. 0.]\n",
      " [0. 0. 0. 0. 0.]]\n"
     ]
    }
   ],
   "source": [
    "import numpy as np\n",
    "c=np.zeros((3,5))\n",
    "print (\"\\n arry with all zeros:\\n\",c)\n"
   ]
  },
  {
   "cell_type": "code",
   "execution_count": 4,
   "id": "a3aa99b0",
   "metadata": {},
   "outputs": [
    {
     "name": "stdout",
     "output_type": "stream",
     "text": [
      "\n",
      " Random value:\n",
      " [[0.99421048 0.91144797]\n",
      " [0.5321095  0.33465468]\n",
      " [0.13157011 0.27497782]]\n"
     ]
    }
   ],
   "source": [
    "import numpy as np\n",
    "d=np.random.random ((3,2))\n",
    "print (\"\\n Random value:\\n\",d)\n",
    "\n"
   ]
  },
  {
   "cell_type": "code",
   "execution_count": 5,
   "id": "25dadbca",
   "metadata": {},
   "outputs": [
    {
     "name": "stdout",
     "output_type": "stream",
     "text": [
      "\n",
      " Range value:\n",
      " [0 2 4]\n"
     ]
    }
   ],
   "source": [
    "import numpy as np\n",
    "d=np.arange(0,5,2)\n",
    "print (\"\\n Range value:\\n\",d)\n",
    "\n"
   ]
  },
  {
   "cell_type": "code",
   "execution_count": 1,
   "id": "fc385d13",
   "metadata": {},
   "outputs": [
    {
     "name": "stdout",
     "output_type": "stream",
     "text": [
      "\n",
      " orginal array \n",
      " [[1 2 3 4]\n",
      " [5 6 7 8]\n",
      " [9 0 1 2]]\n",
      "\n",
      " reshape array\n",
      " [[1 2 3]\n",
      " [4 5 6]\n",
      " [7 8 9]\n",
      " [0 1 2]]\n"
     ]
    }
   ],
   "source": [
    "import numpy as np\n",
    "array=np.array([[1,2,3,4],[5,6,7,8],[9,0,1,2]])\n",
    "newarr=array.reshape((4,3))\n",
    "print(\"\\n orginal array \\n\",array)\n",
    "print(\"\\n reshape array\\n\",newarr)\n",
    "\n",
    "\n",
    "\n"
   ]
  },
  {
   "cell_type": "code",
   "execution_count": 6,
   "id": "45c339b8",
   "metadata": {},
   "outputs": [
    {
     "name": "stdout",
     "output_type": "stream",
     "text": [
      "[[1 2 3]\n",
      " [5 6 7]\n",
      " [9 0 1]\n",
      " [1 2 3]\n",
      " [3 4 9]]\n",
      "\n",
      " Array with all zeros:\n",
      " [[0. 0. 0.]\n",
      " [0. 0. 0.]\n",
      " [0. 0. 0.]\n",
      " [0. 0. 0.]\n",
      " [0. 0. 0.]]\n",
      "\n",
      " random value:\n",
      " [[0.26319965 0.05086972 0.90755831]\n",
      " [0.48797779 0.80440913 0.02383795]\n",
      " [0.7265713  0.98693144 0.93539563]\n",
      " [0.72568449 0.58985329 0.99406195]\n",
      " [0.59899662 0.99427082 0.36778043]]\n",
      "\n",
      " Range value\n",
      " [ 0  5 10 15 20 25]\n",
      "\n",
      " reshape array [[1 2 3 5 6]\n",
      " [7 9 0 1 1]\n",
      " [2 3 3 4 9]]\n"
     ]
    }
   ],
   "source": [
    "import numpy as np \n",
    "x=np.array([[1,2,3],[5,6,7],[9,0,1],[1,2,3],[3,4,9]])\n",
    "print(x)\n",
    "a=np.zeros((5,3))\n",
    "print(\"\\n Array with all zeros:\\n\",a)\n",
    "b=np.random.random((5,3))\n",
    "print(\"\\n random value:\\n\",b)\n",
    "c=np.arange(0,30,5)\n",
    "print(\"\\n Range value\\n\",c)\n",
    "u=x.reshape((3,5))\n",
    "print(\"\\n reshape array\",u)"
   ]
  },
  {
   "cell_type": "code",
   "execution_count": 7,
   "id": "7aee45a2",
   "metadata": {},
   "outputs": [
    {
     "name": "stdout",
     "output_type": "stream",
     "text": [
      "flatten array: [1 2 3 5 6 7 9 0 1 1 2 3 3 4 9]\n"
     ]
    }
   ],
   "source": [
    "import numpy as np\n",
    "flat=x.flatten()\n",
    "print(\"flatten array:\",flat)"
   ]
  },
  {
   "cell_type": "code",
   "execution_count": 14,
   "id": "d5aefdbf",
   "metadata": {},
   "outputs": [
    {
     "name": "stdout",
     "output_type": "stream",
     "text": [
      "The number of dimasionan 2\n"
     ]
    }
   ],
   "source": [
    " print(\"The number of dimasionan\",x.ndim)"
   ]
  },
  {
   "cell_type": "code",
   "execution_count": 15,
   "id": "5d84c51e",
   "metadata": {},
   "outputs": [
    {
     "name": "stdout",
     "output_type": "stream",
     "text": [
      "\n",
      " shape array (3, 5)\n"
     ]
    }
   ],
   "source": [
    "print(\"\\n shape array\",u.shape)"
   ]
  },
  {
   "cell_type": "code",
   "execution_count": 6,
   "id": "c053d098",
   "metadata": {},
   "outputs": [
    {
     "name": "stdout",
     "output_type": "stream",
     "text": [
      "\u0007rray element type: int32\n"
     ]
    }
   ],
   "source": [
    "import numpy as np\n",
    "x= np.array([[1,2,3],[4,5,6]])\n",
    "print(\"\\array element type:\",x.dtype)"
   ]
  },
  {
   "cell_type": "code",
   "execution_count": 7,
   "id": "155361b5",
   "metadata": {},
   "outputs": [
    {
     "name": "stdout",
     "output_type": "stream",
     "text": [
      "size:  2\n"
     ]
    }
   ],
   "source": [
    "import numpy as np\n",
    "x= np.array([[1,2,3],[4,5,6]])\n",
    "size=len(x)\n",
    "print(\"size: \",size)"
   ]
  },
  {
   "cell_type": "code",
   "execution_count": null,
   "id": "719f12e6",
   "metadata": {},
   "outputs": [],
   "source": []
  }
 ],
 "metadata": {
  "kernelspec": {
   "display_name": "Python 3 (ipykernel)",
   "language": "python",
   "name": "python3"
  },
  "language_info": {
   "codemirror_mode": {
    "name": "ipython",
    "version": 3
   },
   "file_extension": ".py",
   "mimetype": "text/x-python",
   "name": "python",
   "nbconvert_exporter": "python",
   "pygments_lexer": "ipython3",
   "version": "3.9.12"
  }
 },
 "nbformat": 4,
 "nbformat_minor": 5
}
